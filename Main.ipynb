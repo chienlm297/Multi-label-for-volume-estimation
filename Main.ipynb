{
 "cells": [
  {
   "cell_type": "code",
   "execution_count": 34,
   "metadata": {},
   "outputs": [
    {
     "name": "stdout",
     "output_type": "stream",
     "text": [
      "1.8.1+cu111\n"
     ]
    }
   ],
   "source": [
    "import numpy as np\n",
    "import pandas as pd\n",
    "import matplotlib.pyplot as plt\n",
    "import torch\n",
    "from torch import nn\n",
    "import torch.nn.functional as F\n",
    "from torchvision import datasets ,models , transforms\n",
    "import json\n",
    "from torch.utils.data import Dataset, DataLoader ,random_split\n",
    "from PIL import Image\n",
    "from pathlib import Path\n",
    "classLabels = [\"desert\", \"mountains\", \"sea\", \"sunset\", \"trees\" ]\n",
    "print(torch.__version__)\n",
    "from utils.datasets import MyDataset\n",
    "from train import train"
   ]
  },
  {
   "cell_type": "code",
   "execution_count": 3,
   "metadata": {},
   "outputs": [
    {
     "name": "stdout",
     "output_type": "stream",
     "text": [
      "trainset len 120 valset len 16\n"
     ]
    }
   ],
   "source": [
    "batch_size=32\n",
    "transform = transforms.Compose([transforms.Resize((224,224)) , \n",
    "                               transforms.ToTensor(),\n",
    "                               transforms.Normalize([0.485, 0.456, 0.406], [0.229, 0.224, 0.225])\n",
    "                               ])\n",
    "\n",
    "dataset = MyDataset(\"dataview/Labels.json\" , Path(\"dataview/view1\"), Path(\"dataview/view2\") , transform)\n",
    "valid_no = int(len(dataset)*0.12) \n",
    "trainset ,valset  = random_split( dataset , [len(dataset) -valid_no  ,valid_no])\n",
    "print(f\"trainset len {len(trainset)} valset len {len(valset)}\")\n",
    "dataloader = {\"train\":DataLoader(trainset , shuffle=True , batch_size=batch_size),\n",
    "              \"val\": DataLoader(valset , shuffle=True , batch_size=batch_size)}"
   ]
  },
  {
   "cell_type": "markdown",
   "metadata": {},
   "source": [
    "# Model definition\n"
   ]
  },
  {
   "cell_type": "code",
   "execution_count": 4,
   "metadata": {},
   "outputs": [],
   "source": [
    "from models.mlmodel import Volume\n",
    "model = Volume(num_classes=136)"
   ]
  },
  {
   "cell_type": "markdown",
   "metadata": {},
   "source": [
    "# Optimizer and Criterion"
   ]
  },
  {
   "cell_type": "code",
   "execution_count": 5,
   "metadata": {},
   "outputs": [],
   "source": [
    "import torch.optim as optim\n",
    "from torch.optim import lr_scheduler\n",
    "\n",
    "device = torch.device(\"cuda\" if torch.cuda.is_available() else \"cpu\")\n",
    "# device = torch.device('cuda:1')\n",
    "model = model.to(device)\n",
    "\n",
    "criterion = nn.BCEWithLogitsLoss()\n",
    "\n",
    "# specify optimizer\n",
    "optimizer = optim.Adam(model.parameters(), lr=0.001)\n",
    "sgdr_partial = lr_scheduler.CosineAnnealingLR(optimizer, T_max=5, eta_min=0.005 )"
   ]
  },
  {
   "cell_type": "markdown",
   "metadata": {},
   "source": [
    "# Training"
   ]
  },
  {
   "cell_type": "code",
   "execution_count": 7,
   "metadata": {},
   "outputs": [
    {
     "name": "stderr",
     "output_type": "stream",
     "text": [
      "Epochs:   0%|          | 0/50 [00:00<?, ?it/s]/home/le.minh.chien/miniconda3/envs/gpu_env/lib/python3.6/site-packages/torch/optim/lr_scheduler.py:134: UserWarning: Detected call of `lr_scheduler.step()` before `optimizer.step()`. In PyTorch 1.1.0 and later, you should call them in the opposite order: `optimizer.step()` before `lr_scheduler.step()`.  Failure to do this will result in PyTorch skipping the first value of the learning rate schedule. See more details at https://pytorch.org/docs/stable/optim.html#how-to-adjust-learning-rate\n",
      "  \"https://pytorch.org/docs/stable/optim.html#how-to-adjust-learning-rate\", UserWarning)\n",
      "Epochs:   2%|▏         | 1/50 [00:07<06:22,  7.80s/it]"
     ]
    },
    {
     "name": "stdout",
     "output_type": "stream",
     "text": [
      "['train Loss: 0.7249 Acc: 0.4786', 'val Loss: 2.8873 Acc: 0.5049']\n"
     ]
    },
    {
     "name": "stderr",
     "output_type": "stream",
     "text": [
      "Epochs:   4%|▍         | 2/50 [00:14<05:55,  7.40s/it]"
     ]
    },
    {
     "name": "stdout",
     "output_type": "stream",
     "text": [
      "['train Loss: 0.5538 Acc: 0.5642', 'val Loss: 152.1575 Acc: 0.5508']\n"
     ]
    },
    {
     "name": "stderr",
     "output_type": "stream",
     "text": [
      "/home/le.minh.chien/miniconda3/envs/gpu_env/lib/python3.6/site-packages/sklearn/metrics/classification.py:1135: UndefinedMetricWarning: F-score is ill-defined and being set to 0.0 in samples with no predicted labels.\n",
      "  'precision', 'predicted', average, warn_for)\n",
      "Epochs:   6%|▌         | 3/50 [00:21<05:29,  7.01s/it]"
     ]
    },
    {
     "name": "stdout",
     "output_type": "stream",
     "text": [
      "['train Loss: 0.4407 Acc: 0.5903', 'val Loss: 407.7722 Acc: 0.4628']\n"
     ]
    },
    {
     "name": "stderr",
     "output_type": "stream",
     "text": [
      "Epochs:   8%|▊         | 4/50 [00:28<05:17,  6.91s/it]"
     ]
    },
    {
     "name": "stdout",
     "output_type": "stream",
     "text": [
      "['train Loss: 0.3738 Acc: 0.6881', 'val Loss: 433.9398 Acc: 0.3487']\n"
     ]
    },
    {
     "name": "stderr",
     "output_type": "stream",
     "text": [
      "Epochs:  10%|█         | 5/50 [00:35<05:13,  6.96s/it]"
     ]
    },
    {
     "name": "stdout",
     "output_type": "stream",
     "text": [
      "['train Loss: 0.3002 Acc: 0.7235', 'val Loss: 184.3767 Acc: 0.3337']\n"
     ]
    },
    {
     "name": "stderr",
     "output_type": "stream",
     "text": [
      "Epochs:  12%|█▏        | 6/50 [00:41<05:02,  6.87s/it]"
     ]
    },
    {
     "name": "stdout",
     "output_type": "stream",
     "text": [
      "['train Loss: 0.2907 Acc: 0.7547', 'val Loss: 68.1605 Acc: 0.3127']\n"
     ]
    },
    {
     "name": "stderr",
     "output_type": "stream",
     "text": [
      "Epochs:  14%|█▍        | 7/50 [00:48<04:52,  6.80s/it]"
     ]
    },
    {
     "name": "stdout",
     "output_type": "stream",
     "text": [
      "['train Loss: 0.2745 Acc: 0.7963', 'val Loss: 23.0659 Acc: 0.3847']\n"
     ]
    },
    {
     "name": "stderr",
     "output_type": "stream",
     "text": [
      "Epochs:  16%|█▌        | 8/50 [00:55<04:41,  6.70s/it]"
     ]
    },
    {
     "name": "stdout",
     "output_type": "stream",
     "text": [
      "['train Loss: 0.2676 Acc: 0.7806', 'val Loss: 10.6745 Acc: 0.5560']\n"
     ]
    },
    {
     "name": "stderr",
     "output_type": "stream",
     "text": [
      "Epochs:  18%|█▊        | 9/50 [01:02<04:38,  6.79s/it]"
     ]
    },
    {
     "name": "stdout",
     "output_type": "stream",
     "text": [
      "['train Loss: 0.2384 Acc: 0.7813', 'val Loss: 2.8147 Acc: 0.6167']\n"
     ]
    },
    {
     "name": "stderr",
     "output_type": "stream",
     "text": [
      "Epochs:  20%|██        | 10/50 [01:08<04:28,  6.72s/it]"
     ]
    },
    {
     "name": "stdout",
     "output_type": "stream",
     "text": [
      "['train Loss: 0.2085 Acc: 0.8340', 'val Loss: 0.7344 Acc: 0.7372']\n"
     ]
    },
    {
     "name": "stderr",
     "output_type": "stream",
     "text": [
      "Epochs:  22%|██▏       | 11/50 [01:15<04:25,  6.80s/it]"
     ]
    },
    {
     "name": "stdout",
     "output_type": "stream",
     "text": [
      "['train Loss: 0.2428 Acc: 0.8198', 'val Loss: 0.5320 Acc: 0.7435']\n"
     ]
    },
    {
     "name": "stderr",
     "output_type": "stream",
     "text": [
      "Epochs:  24%|██▍       | 12/50 [01:22<04:17,  6.78s/it]"
     ]
    },
    {
     "name": "stdout",
     "output_type": "stream",
     "text": [
      "['train Loss: 0.2046 Acc: 0.8457', 'val Loss: 0.3726 Acc: 0.7704']\n"
     ]
    },
    {
     "name": "stderr",
     "output_type": "stream",
     "text": [
      "Epochs:  26%|██▌       | 13/50 [01:29<04:11,  6.79s/it]"
     ]
    },
    {
     "name": "stdout",
     "output_type": "stream",
     "text": [
      "['train Loss: 0.2361 Acc: 0.8386', 'val Loss: 0.3160 Acc: 0.7874']\n"
     ]
    },
    {
     "name": "stderr",
     "output_type": "stream",
     "text": [
      "Epochs:  28%|██▊       | 14/50 [01:36<04:08,  6.90s/it]"
     ]
    },
    {
     "name": "stdout",
     "output_type": "stream",
     "text": [
      "['train Loss: 0.1984 Acc: 0.8696', 'val Loss: 0.4526 Acc: 0.7804']\n"
     ]
    },
    {
     "name": "stderr",
     "output_type": "stream",
     "text": [
      "Epochs:  30%|███       | 15/50 [01:43<04:00,  6.88s/it]"
     ]
    },
    {
     "name": "stdout",
     "output_type": "stream",
     "text": [
      "['train Loss: 0.2890 Acc: 0.8264', 'val Loss: 0.7988 Acc: 0.7241']\n"
     ]
    },
    {
     "name": "stderr",
     "output_type": "stream",
     "text": [
      "Epochs:  32%|███▏      | 16/50 [01:50<04:00,  7.07s/it]"
     ]
    },
    {
     "name": "stdout",
     "output_type": "stream",
     "text": [
      "['train Loss: 0.1567 Acc: 0.8955', 'val Loss: 0.3550 Acc: 0.7992']\n"
     ]
    },
    {
     "name": "stderr",
     "output_type": "stream",
     "text": [
      "Epochs:  34%|███▍      | 17/50 [01:57<03:51,  7.00s/it]"
     ]
    },
    {
     "name": "stdout",
     "output_type": "stream",
     "text": [
      "['train Loss: 0.1390 Acc: 0.9133', 'val Loss: 0.5641 Acc: 0.7741']\n"
     ]
    },
    {
     "name": "stderr",
     "output_type": "stream",
     "text": [
      "Epochs:  36%|███▌      | 18/50 [02:04<03:41,  6.92s/it]"
     ]
    },
    {
     "name": "stdout",
     "output_type": "stream",
     "text": [
      "['train Loss: 0.2005 Acc: 0.8726', 'val Loss: 0.5353 Acc: 0.8164']\n"
     ]
    },
    {
     "name": "stderr",
     "output_type": "stream",
     "text": [
      "Epochs:  38%|███▊      | 19/50 [02:11<03:34,  6.92s/it]"
     ]
    },
    {
     "name": "stdout",
     "output_type": "stream",
     "text": [
      "['train Loss: 0.1516 Acc: 0.8941', 'val Loss: 0.4319 Acc: 0.6936']\n"
     ]
    },
    {
     "name": "stderr",
     "output_type": "stream",
     "text": [
      "Epochs:  40%|████      | 20/50 [02:18<03:28,  6.95s/it]"
     ]
    },
    {
     "name": "stdout",
     "output_type": "stream",
     "text": [
      "['train Loss: 0.1234 Acc: 0.8980', 'val Loss: 0.1364 Acc: 0.8981']\n"
     ]
    },
    {
     "name": "stderr",
     "output_type": "stream",
     "text": [
      "Epochs:  42%|████▏     | 21/50 [02:25<03:21,  6.94s/it]"
     ]
    },
    {
     "name": "stdout",
     "output_type": "stream",
     "text": [
      "['train Loss: 0.1096 Acc: 0.9329', 'val Loss: 0.0998 Acc: 0.9230']\n"
     ]
    },
    {
     "name": "stderr",
     "output_type": "stream",
     "text": [
      "Epochs:  44%|████▍     | 22/50 [02:31<03:10,  6.80s/it]"
     ]
    },
    {
     "name": "stdout",
     "output_type": "stream",
     "text": [
      "['train Loss: 0.1372 Acc: 0.9209', 'val Loss: 0.0908 Acc: 0.9271']\n"
     ]
    },
    {
     "name": "stderr",
     "output_type": "stream",
     "text": [
      "Epochs:  46%|████▌     | 23/50 [02:37<03:00,  6.67s/it]"
     ]
    },
    {
     "name": "stdout",
     "output_type": "stream",
     "text": [
      "['train Loss: 0.1336 Acc: 0.9161', 'val Loss: 0.1203 Acc: 0.9212']\n"
     ]
    },
    {
     "name": "stderr",
     "output_type": "stream",
     "text": [
      "Epochs:  48%|████▊     | 24/50 [02:45<02:57,  6.82s/it]"
     ]
    },
    {
     "name": "stdout",
     "output_type": "stream",
     "text": [
      "['train Loss: 0.1333 Acc: 0.9067', 'val Loss: 0.1452 Acc: 0.8501']\n"
     ]
    },
    {
     "name": "stderr",
     "output_type": "stream",
     "text": [
      "Epochs:  50%|█████     | 25/50 [02:51<02:48,  6.76s/it]"
     ]
    },
    {
     "name": "stdout",
     "output_type": "stream",
     "text": [
      "['train Loss: 0.2167 Acc: 0.8653', 'val Loss: 0.1112 Acc: 0.9396']\n"
     ]
    },
    {
     "name": "stderr",
     "output_type": "stream",
     "text": [
      "Epochs:  52%|█████▏    | 26/50 [02:58<02:41,  6.71s/it]"
     ]
    },
    {
     "name": "stdout",
     "output_type": "stream",
     "text": [
      "['train Loss: 0.1088 Acc: 0.9289', 'val Loss: 4.6935 Acc: 0.7048']\n"
     ]
    },
    {
     "name": "stderr",
     "output_type": "stream",
     "text": [
      "Epochs:  54%|█████▍    | 27/50 [03:05<02:35,  6.76s/it]"
     ]
    },
    {
     "name": "stdout",
     "output_type": "stream",
     "text": [
      "['train Loss: 0.1278 Acc: 0.9156', 'val Loss: 2.1225 Acc: 0.7797']\n"
     ]
    },
    {
     "name": "stderr",
     "output_type": "stream",
     "text": [
      "Epochs:  56%|█████▌    | 28/50 [03:11<02:27,  6.72s/it]"
     ]
    },
    {
     "name": "stdout",
     "output_type": "stream",
     "text": [
      "['train Loss: 0.0918 Acc: 0.9279', 'val Loss: 0.6672 Acc: 0.8739']\n"
     ]
    },
    {
     "name": "stderr",
     "output_type": "stream",
     "text": [
      "Epochs:  58%|█████▊    | 29/50 [03:18<02:21,  6.72s/it]"
     ]
    },
    {
     "name": "stdout",
     "output_type": "stream",
     "text": [
      "['train Loss: 0.1038 Acc: 0.9124', 'val Loss: 0.2228 Acc: 0.9180']\n"
     ]
    },
    {
     "name": "stderr",
     "output_type": "stream",
     "text": [
      "Epochs:  60%|██████    | 30/50 [03:25<02:15,  6.76s/it]"
     ]
    },
    {
     "name": "stdout",
     "output_type": "stream",
     "text": [
      "['train Loss: 0.0889 Acc: 0.9239', 'val Loss: 0.0964 Acc: 0.9422']\n"
     ]
    },
    {
     "name": "stderr",
     "output_type": "stream",
     "text": [
      "Epochs:  62%|██████▏   | 31/50 [03:32<02:07,  6.71s/it]"
     ]
    },
    {
     "name": "stdout",
     "output_type": "stream",
     "text": [
      "['train Loss: 0.0898 Acc: 0.9281', 'val Loss: 0.0725 Acc: 0.9457']\n"
     ]
    },
    {
     "name": "stderr",
     "output_type": "stream",
     "text": [
      "Epochs:  64%|██████▍   | 32/50 [03:38<02:01,  6.75s/it]"
     ]
    },
    {
     "name": "stdout",
     "output_type": "stream",
     "text": [
      "['train Loss: 0.0962 Acc: 0.9356', 'val Loss: 0.0745 Acc: 0.9282']\n"
     ]
    },
    {
     "name": "stderr",
     "output_type": "stream",
     "text": [
      "Epochs:  66%|██████▌   | 33/50 [03:45<01:55,  6.78s/it]"
     ]
    },
    {
     "name": "stdout",
     "output_type": "stream",
     "text": [
      "['train Loss: 0.0829 Acc: 0.9367', 'val Loss: 0.0762 Acc: 0.9049']\n"
     ]
    },
    {
     "name": "stderr",
     "output_type": "stream",
     "text": [
      "Epochs:  68%|██████▊   | 34/50 [03:52<01:47,  6.74s/it]"
     ]
    },
    {
     "name": "stdout",
     "output_type": "stream",
     "text": [
      "['train Loss: 0.0995 Acc: 0.9265', 'val Loss: 0.0691 Acc: 0.9241']\n"
     ]
    },
    {
     "name": "stderr",
     "output_type": "stream",
     "text": [
      "Epochs:  70%|███████   | 35/50 [03:59<01:42,  6.82s/it]"
     ]
    },
    {
     "name": "stdout",
     "output_type": "stream",
     "text": [
      "['train Loss: 0.0771 Acc: 0.9492', 'val Loss: 0.0566 Acc: 0.9481']\n"
     ]
    },
    {
     "name": "stderr",
     "output_type": "stream",
     "text": [
      "Epochs:  72%|███████▏  | 36/50 [04:06<01:34,  6.77s/it]"
     ]
    },
    {
     "name": "stdout",
     "output_type": "stream",
     "text": [
      "['train Loss: 0.0753 Acc: 0.9350', 'val Loss: 0.0627 Acc: 0.9554']\n"
     ]
    },
    {
     "name": "stderr",
     "output_type": "stream",
     "text": [
      "Epochs:  74%|███████▍  | 37/50 [04:13<01:29,  6.89s/it]"
     ]
    },
    {
     "name": "stdout",
     "output_type": "stream",
     "text": [
      "['train Loss: 0.0706 Acc: 0.9453', 'val Loss: 0.0635 Acc: 0.9473']\n"
     ]
    },
    {
     "name": "stderr",
     "output_type": "stream",
     "text": [
      "Epochs:  76%|███████▌  | 38/50 [04:20<01:22,  6.89s/it]"
     ]
    },
    {
     "name": "stdout",
     "output_type": "stream",
     "text": [
      "['train Loss: 0.0952 Acc: 0.9107', 'val Loss: 0.0527 Acc: 0.9449']\n"
     ]
    },
    {
     "name": "stderr",
     "output_type": "stream",
     "text": [
      "Epochs:  78%|███████▊  | 39/50 [04:26<01:14,  6.78s/it]"
     ]
    },
    {
     "name": "stdout",
     "output_type": "stream",
     "text": [
      "['train Loss: 0.0866 Acc: 0.9392', 'val Loss: 0.0505 Acc: 0.9565']\n"
     ]
    },
    {
     "name": "stderr",
     "output_type": "stream",
     "text": [
      "Epochs:  80%|████████  | 40/50 [04:33<01:08,  6.87s/it]"
     ]
    },
    {
     "name": "stdout",
     "output_type": "stream",
     "text": [
      "['train Loss: 0.1240 Acc: 0.9245', 'val Loss: 0.0493 Acc: 0.9580']\n"
     ]
    },
    {
     "name": "stderr",
     "output_type": "stream",
     "text": [
      "Epochs:  82%|████████▏ | 41/50 [04:40<01:02,  6.90s/it]"
     ]
    },
    {
     "name": "stdout",
     "output_type": "stream",
     "text": [
      "['train Loss: 0.1355 Acc: 0.8992', 'val Loss: 0.0506 Acc: 0.9498']\n"
     ]
    },
    {
     "name": "stderr",
     "output_type": "stream",
     "text": [
      "Epochs:  84%|████████▍ | 42/50 [04:47<00:54,  6.81s/it]"
     ]
    },
    {
     "name": "stdout",
     "output_type": "stream",
     "text": [
      "['train Loss: 0.0907 Acc: 0.9265', 'val Loss: 0.0570 Acc: 0.9596']\n"
     ]
    },
    {
     "name": "stderr",
     "output_type": "stream",
     "text": [
      "Epochs:  86%|████████▌ | 43/50 [04:53<00:47,  6.74s/it]"
     ]
    },
    {
     "name": "stdout",
     "output_type": "stream",
     "text": [
      "['train Loss: 0.0869 Acc: 0.9331', 'val Loss: 0.0575 Acc: 0.9534']\n"
     ]
    },
    {
     "name": "stderr",
     "output_type": "stream",
     "text": [
      "Epochs:  88%|████████▊ | 44/50 [05:00<00:40,  6.80s/it]"
     ]
    },
    {
     "name": "stdout",
     "output_type": "stream",
     "text": [
      "['train Loss: 0.1307 Acc: 0.9066', 'val Loss: 0.0753 Acc: 0.9365']\n"
     ]
    },
    {
     "name": "stderr",
     "output_type": "stream",
     "text": [
      "Epochs:  90%|█████████ | 45/50 [05:07<00:34,  6.80s/it]"
     ]
    },
    {
     "name": "stdout",
     "output_type": "stream",
     "text": [
      "['train Loss: 0.0809 Acc: 0.9375', 'val Loss: 0.1510 Acc: 0.8633']\n"
     ]
    },
    {
     "name": "stderr",
     "output_type": "stream",
     "text": [
      "Epochs:  92%|█████████▏| 46/50 [05:14<00:27,  6.81s/it]"
     ]
    },
    {
     "name": "stdout",
     "output_type": "stream",
     "text": [
      "['train Loss: 0.1128 Acc: 0.9220', 'val Loss: 0.1445 Acc: 0.8948']\n"
     ]
    },
    {
     "name": "stderr",
     "output_type": "stream",
     "text": [
      "Epochs:  94%|█████████▍| 47/50 [05:21<00:20,  6.81s/it]"
     ]
    },
    {
     "name": "stdout",
     "output_type": "stream",
     "text": [
      "['train Loss: 0.0973 Acc: 0.9163', 'val Loss: 0.0505 Acc: 0.9545']\n"
     ]
    },
    {
     "name": "stderr",
     "output_type": "stream",
     "text": [
      "Epochs:  96%|█████████▌| 48/50 [05:28<00:13,  6.91s/it]"
     ]
    },
    {
     "name": "stdout",
     "output_type": "stream",
     "text": [
      "['train Loss: 0.0837 Acc: 0.9403', 'val Loss: 0.0537 Acc: 0.9570']\n"
     ]
    },
    {
     "name": "stderr",
     "output_type": "stream",
     "text": [
      "Epochs:  98%|█████████▊| 49/50 [05:35<00:07,  7.01s/it]"
     ]
    },
    {
     "name": "stdout",
     "output_type": "stream",
     "text": [
      "['train Loss: 0.1027 Acc: 0.9407', 'val Loss: 0.0591 Acc: 0.9480']\n"
     ]
    },
    {
     "name": "stderr",
     "output_type": "stream",
     "text": [
      "Epochs: 100%|██████████| 50/50 [05:42<00:00,  6.85s/it]"
     ]
    },
    {
     "name": "stdout",
     "output_type": "stream",
     "text": [
      "['train Loss: 0.0673 Acc: 0.9507', 'val Loss: 0.0647 Acc: 0.9391']\n"
     ]
    },
    {
     "name": "stderr",
     "output_type": "stream",
     "text": [
      "\n"
     ]
    }
   ],
   "source": [
    "train(model,dataloader , criterion, optimizer,sgdr_partial,num_epochs=50)"
   ]
  },
  {
   "cell_type": "code",
   "execution_count": 8,
   "metadata": {},
   "outputs": [],
   "source": [
    "def createCheckpoint(filename=Path(\"Volume_model.pt\")):\n",
    "  checkpoint = {\n",
    "              'epoch': 5,\n",
    "              'model_state_dict': model.state_dict(),\n",
    "              'optimizer_state_dict': optimizer.state_dict(),\n",
    "              \"batch_size\":batch_size,\n",
    "  } # save all important stuff\n",
    "  torch.save(checkpoint , filename)\n",
    "createCheckpoint()"
   ]
  },
  {
   "cell_type": "markdown",
   "metadata": {},
   "source": [
    "# test inference"
   ]
  },
  {
   "cell_type": "code",
   "execution_count": null,
   "metadata": {},
   "outputs": [],
   "source": [
    "model"
   ]
  },
  {
   "cell_type": "code",
   "execution_count": 35,
   "metadata": {},
   "outputs": [
    {
     "name": "stdout",
     "output_type": "stream",
     "text": [
      "Time to inference:  0.009053468704223633\n",
      "tensor([[ True,  True,  True,  True,  True,  True,  True,  True,  True,  True,\n",
      "          True,  True,  True,  True,  True,  True,  True,  True,  True,  True,\n",
      "         False, False, False, False, False, False, False, False, False, False,\n",
      "         False, False, False, False, False, False, False, False, False, False,\n",
      "         False, False, False, False, False, False, False, False, False, False,\n",
      "         False, False, False, False, False, False, False, False, False, False,\n",
      "         False, False, False, False, False, False, False, False, False, False,\n",
      "         False, False, False, False, False, False, False, False, False, False,\n",
      "         False, False, False, False, False, False, False, False, False, False,\n",
      "         False, False, False, False, False, False, False, False, False, False,\n",
      "         False, False, False, False, False, False, False, False, False, False,\n",
      "         False, False, False, False, False, False, False, False, False, False,\n",
      "         False, False, False, False, False, False, False, False, False, False,\n",
      "         False, False, False, False, False, False]], device='cuda:0')\n"
     ]
    }
   ],
   "source": [
    "import os\n",
    "import time\n",
    "\n",
    "image = Image.open(os.path.join(\"dataview/view1\", \"20.png\")).convert(\"RGB\")\n",
    "image_2 = Image.open(os.path.join(\"dataview/view2\", \"20.png\")).convert(\"RGB\")\n",
    "image = transform(image)\n",
    "image_2 = transform(image_2)\n",
    "image = torch.unsqueeze(image, 0).to(device)\n",
    "image_2 = torch.unsqueeze(image_2, 0).to(device)\n",
    "\n",
    "start = time.time()\n",
    "results = model(image, image_2)\n",
    "print(\"Time to inference: \", time.time() - start)\n",
    "results = torch.sigmoid(results)\n",
    "print(results>0.7)"
   ]
  },
  {
   "cell_type": "code",
   "execution_count": 27,
   "metadata": {},
   "outputs": [
    {
     "name": "stdout",
     "output_type": "stream",
     "text": [
      "tensor([[ True,  True,  True,  ..., False, False, False],\n",
      "        [ True,  True,  True,  ..., False, False, False],\n",
      "        [ True,  True,  True,  ..., False, False, False],\n",
      "        ...,\n",
      "        [ True,  True,  True,  ..., False, False, False],\n",
      "        [ True,  True,  True,  ..., False, False, False],\n",
      "        [ True,  True,  True,  ..., False, False, False]], device='cuda:0')\n"
     ]
    }
   ],
   "source": [
    "image, image2, label = next(iter(dataloader[\"val\"]))\n",
    "image = image.to(device)\n",
    "image2 = image2.to(device)\n",
    "\n",
    "label = label.to(device)\n",
    "output = 0\n",
    "with torch.no_grad():\n",
    "  output = model(image, image2)\n",
    "  output = torch.sigmoid(output)\n",
    "output = output>0.5\n",
    "print(output)"
   ]
  },
  {
   "cell_type": "code",
   "execution_count": null,
   "metadata": {},
   "outputs": [],
   "source": []
  }
 ],
 "metadata": {
  "interpreter": {
   "hash": "86cbe3249abe1bda5b6bfb4f4709a2a04b9700d68e11a35463a7d6be545fde9c"
  },
  "kernelspec": {
   "display_name": "Python 3.9.4 64-bit ('thesis': conda)",
   "name": "python3"
  },
  "language_info": {
   "codemirror_mode": {
    "name": "ipython",
    "version": 3
   },
   "file_extension": ".py",
   "mimetype": "text/x-python",
   "name": "python",
   "nbconvert_exporter": "python",
   "pygments_lexer": "ipython3",
   "version": "3.6.13"
  },
  "orig_nbformat": 4
 },
 "nbformat": 4,
 "nbformat_minor": 2
}
